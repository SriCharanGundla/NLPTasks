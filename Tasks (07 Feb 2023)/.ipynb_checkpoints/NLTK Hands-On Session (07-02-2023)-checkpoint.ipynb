{
 "cells": [
  {
   "cell_type": "code",
   "execution_count": 1,
   "id": "a50fb4a0",
   "metadata": {},
   "outputs": [],
   "source": [
    "from urllib import request"
   ]
  },
  {
   "cell_type": "code",
   "execution_count": 2,
   "id": "70ac050c",
   "metadata": {},
   "outputs": [],
   "source": [
    "url=\"https://www.gutenberg.org/cache/epub/69969/pg69969.txt\""
   ]
  },
  {
   "cell_type": "code",
   "execution_count": 3,
   "id": "e30bca5a",
   "metadata": {},
   "outputs": [],
   "source": [
    "response=request.urlopen(url)"
   ]
  },
  {
   "cell_type": "code",
   "execution_count": 4,
   "id": "987eaa6e",
   "metadata": {},
   "outputs": [],
   "source": [
    "raw=response.read().decode('utf8')"
   ]
  },
  {
   "cell_type": "code",
   "execution_count": 5,
   "id": "096d9562",
   "metadata": {},
   "outputs": [],
   "source": [
    "import nltk\n",
    "from nltk.tokenize import word_tokenize\n",
    "tokens=word_tokenize(raw)"
   ]
  },
  {
   "cell_type": "code",
   "execution_count": 6,
   "id": "2166c9d9",
   "metadata": {},
   "outputs": [
    {
     "name": "stdout",
     "output_type": "stream",
     "text": [
      "['\\ufeffThe', 'Project', 'Gutenberg', 'eBook', 'of', 'The', 'golden', 'whales', 'of', 'California', 'and', 'other', 'rhymes', 'in', 'the', 'American', 'language', ',', 'by', 'Vachel']\n"
     ]
    }
   ],
   "source": [
    "print(tokens[:20])"
   ]
  },
  {
   "cell_type": "code",
   "execution_count": 7,
   "id": "693bc145",
   "metadata": {},
   "outputs": [
    {
     "data": {
      "text/plain": [
       "'fulli'"
      ]
     },
     "execution_count": 7,
     "metadata": {},
     "output_type": "execute_result"
    }
   ],
   "source": [
    "from nltk.stem import PorterStemmer\n",
    "porter=PorterStemmer()\n",
    "porter.stem('fully')"
   ]
  },
  {
   "cell_type": "code",
   "execution_count": 12,
   "id": "336463c8",
   "metadata": {},
   "outputs": [
    {
     "name": "stdout",
     "output_type": "stream",
     "text": [
      "cacti\n",
      "happi\n"
     ]
    }
   ],
   "source": [
    "porter1 = PorterStemmer()\n",
    "print(porter1.stem(\"cacti\"))\n",
    "print(porter1.stem(\"happiness\"))"
   ]
  },
  {
   "cell_type": "code",
   "execution_count": 8,
   "id": "61a47f7c",
   "metadata": {},
   "outputs": [
    {
     "data": {
      "text/plain": [
       "'ful'"
      ]
     },
     "execution_count": 8,
     "metadata": {},
     "output_type": "execute_result"
    }
   ],
   "source": [
    "from nltk.stem import LancasterStemmer\n",
    "porter=LancasterStemmer()\n",
    "porter.stem('fully')"
   ]
  },
  {
   "cell_type": "code",
   "execution_count": 13,
   "id": "906f4489",
   "metadata": {},
   "outputs": [
    {
     "name": "stdout",
     "output_type": "stream",
     "text": [
      "cact\n",
      "happy\n"
     ]
    }
   ],
   "source": [
    "porter2 = LancasterStemmer()\n",
    "print(porter2.stem(\"cacti\"))\n",
    "print(porter2.stem(\"happiness\"))"
   ]
  },
  {
   "cell_type": "code",
   "execution_count": 9,
   "id": "9a30994e",
   "metadata": {},
   "outputs": [
    {
     "data": {
      "text/plain": [
       "'k'"
      ]
     },
     "execution_count": 9,
     "metadata": {},
     "output_type": "execute_result"
    }
   ],
   "source": [
    "from nltk.stem import RegexpStemmer\n",
    "porter=RegexpStemmer('ing')\n",
    "porter.stem('king')"
   ]
  },
  {
   "cell_type": "code",
   "execution_count": 14,
   "id": "575cba7e",
   "metadata": {},
   "outputs": [
    {
     "name": "stdout",
     "output_type": "stream",
     "text": [
      "s\n"
     ]
    }
   ],
   "source": [
    "porter3 = RegexpStemmer(\"ing\")\n",
    "print(porter3.stem(\"singing\"))"
   ]
  },
  {
   "cell_type": "code",
   "execution_count": 10,
   "id": "b388ecd3",
   "metadata": {},
   "outputs": [
    {
     "data": {
      "text/plain": [
       "'detest'"
      ]
     },
     "execution_count": 10,
     "metadata": {},
     "output_type": "execute_result"
    }
   ],
   "source": [
    "from nltk.stem import SnowballStemmer\n",
    "porter=SnowballStemmer('french')\n",
    "porter.stem('detester')"
   ]
  },
  {
   "cell_type": "code",
   "execution_count": 15,
   "id": "fbc54bc9",
   "metadata": {},
   "outputs": [
    {
     "name": "stdout",
     "output_type": "stream",
     "text": [
      "avoir\n"
     ]
    }
   ],
   "source": [
    "porter4 = SnowballStemmer(\"french\")\n",
    "print(porter4.stem(\"avoir\"))"
   ]
  },
  {
   "cell_type": "code",
   "execution_count": 11,
   "id": "bcf152c1",
   "metadata": {},
   "outputs": [
    {
     "name": "stdout",
     "output_type": "stream",
     "text": [
      "['\\ufeffThe', 'Project', 'Gutenberg', 'eBook', 'of', 'The', 'golden', 'whales', 'of', 'California', 'and', 'other', 'rhymes', 'in', 'the', 'American', 'language', ',', 'by', 'Vachel']\n",
      "﻿the\n",
      "project\n",
      "gutenberg\n",
      "ebook\n",
      "of\n",
      "the\n",
      "golden\n",
      "whale\n",
      "of\n",
      "california\n",
      "and\n",
      "other\n",
      "rhyme\n",
      "in\n",
      "the\n",
      "american\n",
      "languag\n",
      ",\n",
      "by\n",
      "vachel\n",
      "lindsay\n",
      "thi\n",
      "ebook\n",
      "is\n",
      "for\n",
      "the\n",
      "use\n",
      "of\n",
      "anyon\n",
      "anywher\n"
     ]
    }
   ],
   "source": [
    "porter=PorterStemmer()\n",
    "print(tokens[:20])\n",
    "for i in range(30):\n",
    "    print(porter.stem(tokens[i]))"
   ]
  },
  {
   "cell_type": "code",
   "execution_count": 16,
   "id": "5c7c7e0d",
   "metadata": {},
   "outputs": [
    {
     "name": "stdout",
     "output_type": "stream",
     "text": [
      "Porter Stemmer: \n",
      "Lorem->lorem\n",
      "Ipsum->ipsum\n",
      "is->is\n",
      "simply->simpli\n",
      "dummy->dummi\n",
      "text->text\n",
      "of->of\n",
      "the->the\n",
      "printing->print\n",
      "and->and\n",
      "typesetting->typeset\n",
      "industry.->industry.\n",
      "Lorem->lorem\n",
      "Ipsum->ipsum\n",
      "has->ha\n",
      "been->been\n",
      "the->the\n",
      "industry's->industry'\n",
      "standard->standard\n",
      "dummy->dummi\n",
      "text->text\n",
      "ever->ever\n",
      "since->sinc\n",
      "the->the\n",
      "1500s,->1500s,\n",
      "when->when\n",
      "an->an\n",
      "unknown->unknown\n",
      "printer->printer\n",
      "took->took\n",
      "a->a\n",
      "galley->galley\n",
      "of->of\n",
      "type->type\n",
      "and->and\n",
      "scrambled->scrambl\n",
      "it->it\n",
      "to->to\n",
      "make->make\n",
      "a->a\n",
      "type->type\n",
      "specimen->specimen\n",
      "book.->book.\n",
      "It->it\n",
      "has->ha\n",
      "survived->surviv\n",
      "not->not\n",
      "only->onli\n",
      "five->five\n",
      "centuries,->centuries,\n",
      "but->but\n",
      "also->also\n",
      "the->the\n",
      "leap->leap\n",
      "into->into\n",
      "electronic->electron\n",
      "typesetting,->typesetting,\n",
      "remaining->remain\n",
      "essentially->essenti\n",
      "unchanged.->unchanged.\n",
      "It->it\n",
      "was->wa\n",
      "popularised->popularis\n",
      "in->in\n",
      "the->the\n",
      "1960s->1960\n",
      "with->with\n",
      "the->the\n",
      "release->releas\n",
      "of->of\n",
      "Letraset->letraset\n",
      "sheets->sheet\n",
      "containing->contain\n",
      "Lorem->lorem\n",
      "Ipsum->ipsum\n",
      "passages,->passages,\n",
      "and->and\n",
      "more->more\n",
      "recently->recent\n",
      "with->with\n",
      "desktop->desktop\n",
      "publishing->publish\n",
      "software->softwar\n",
      "like->like\n",
      "Aldus->aldu\n",
      "PageMaker->pagemak\n",
      "including->includ\n",
      "versions->version\n",
      "of->of\n",
      "Lorem->lorem\n",
      "Ipsum.->ipsum.\n"
     ]
    }
   ],
   "source": [
    "some_txt = \"Lorem Ipsum is simply dummy text of the printing and typesetting industry. Lorem Ipsum has been the industry's standard dummy text ever since the 1500s, when an unknown printer took a galley of type and scrambled it to make a type specimen book. It has survived not only five centuries, but also the leap into electronic typesetting, remaining essentially unchanged. It was popularised in the 1960s with the release of Letraset sheets containing Lorem Ipsum passages, and more recently with desktop publishing software like Aldus PageMaker including versions of Lorem Ipsum.\"\n",
    "some_txt_stemmers = [porter1.stem(word) for word in some_txt.split()]\n",
    "print(\"Porter Stemmer: \")\n",
    "for word, stem in zip(some_txt.split(), some_txt_stemmers):\n",
    "    print(word, stem, sep=\"->\")"
   ]
  },
  {
   "cell_type": "code",
   "execution_count": 17,
   "id": "2f923087",
   "metadata": {},
   "outputs": [
    {
     "name": "stdout",
     "output_type": "stream",
     "text": [
      "Lancaster Stemmer: \n",
      "Lorem->lorem\n",
      "Ipsum->ips\n",
      "is->is\n",
      "simply->simply\n",
      "dummy->dummy\n",
      "text->text\n",
      "of->of\n",
      "the->the\n",
      "printing->print\n",
      "and->and\n",
      "typesetting->typeset\n",
      "industry.->industry.\n",
      "Lorem->lorem\n",
      "Ipsum->ips\n",
      "has->has\n",
      "been->been\n",
      "the->the\n",
      "industry's->industry's\n",
      "standard->standard\n",
      "dummy->dummy\n",
      "text->text\n",
      "ever->ev\n",
      "since->sint\n",
      "the->the\n",
      "1500s,->1500s,\n",
      "when->when\n",
      "an->an\n",
      "unknown->unknown\n",
      "printer->print\n",
      "took->took\n",
      "a->a\n",
      "galley->galley\n",
      "of->of\n",
      "type->typ\n",
      "and->and\n",
      "scrambled->scrambled\n",
      "it->it\n",
      "to->to\n",
      "make->mak\n",
      "a->a\n",
      "type->typ\n",
      "specimen->specim\n",
      "book.->book.\n",
      "It->it\n",
      "has->has\n",
      "survived->surv\n",
      "not->not\n",
      "only->on\n",
      "five->fiv\n",
      "centuries,->centuries,\n",
      "but->but\n",
      "also->also\n",
      "the->the\n",
      "leap->leap\n",
      "into->into\n",
      "electronic->electron\n",
      "typesetting,->typesetting,\n",
      "remaining->remain\n",
      "essentially->ess\n",
      "unchanged.->unchanged.\n",
      "It->it\n",
      "was->was\n",
      "popularised->popul\n",
      "in->in\n",
      "the->the\n",
      "1960s->1960s\n",
      "with->with\n",
      "the->the\n",
      "release->releas\n",
      "of->of\n",
      "Letraset->letraset\n",
      "sheets->sheet\n",
      "containing->contain\n",
      "Lorem->lorem\n",
      "Ipsum->ips\n",
      "passages,->passages,\n",
      "and->and\n",
      "more->mor\n",
      "recently->rec\n",
      "with->with\n",
      "desktop->desktop\n",
      "publishing->publ\n",
      "software->softw\n",
      "like->lik\n",
      "Aldus->ald\n",
      "PageMaker->pagemak\n",
      "including->includ\n",
      "versions->vert\n",
      "of->of\n",
      "Lorem->lorem\n",
      "Ipsum.->ipsum.\n"
     ]
    }
   ],
   "source": [
    "some_txt = \"Lorem Ipsum is simply dummy text of the printing and typesetting industry. Lorem Ipsum has been the industry's standard dummy text ever since the 1500s, when an unknown printer took a galley of type and scrambled it to make a type specimen book. It has survived not only five centuries, but also the leap into electronic typesetting, remaining essentially unchanged. It was popularised in the 1960s with the release of Letraset sheets containing Lorem Ipsum passages, and more recently with desktop publishing software like Aldus PageMaker including versions of Lorem Ipsum.\"\n",
    "some_txt_stemmers = [porter2.stem(word) for word in some_txt.split()]\n",
    "print(\"Lancaster Stemmer: \")\n",
    "for word, stem in zip(some_txt.split(), some_txt_stemmers):\n",
    "    print(word, stem, sep=\"->\")"
   ]
  }
 ],
 "metadata": {
  "kernelspec": {
   "display_name": "Python 3 (ipykernel)",
   "language": "python",
   "name": "python3"
  },
  "language_info": {
   "codemirror_mode": {
    "name": "ipython",
    "version": 3
   },
   "file_extension": ".py",
   "mimetype": "text/x-python",
   "name": "python",
   "nbconvert_exporter": "python",
   "pygments_lexer": "ipython3",
   "version": "3.7.9"
  }
 },
 "nbformat": 4,
 "nbformat_minor": 5
}
